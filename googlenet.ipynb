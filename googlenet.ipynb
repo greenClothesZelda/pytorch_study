{
 "cells": [
  {
   "cell_type": "code",
   "execution_count": 5,
   "id": "initial_id",
   "metadata": {
    "ExecuteTime": {
     "end_time": "2025-02-09T07:36:17.692861Z",
     "start_time": "2025-02-09T07:36:17.690704Z"
    },
    "collapsed": true,
    "jupyter": {
     "outputs_hidden": true
    }
   },
   "outputs": [],
   "source": [
    "import torch\n",
    "import numpy as np\n",
    "from torch.utils.data import Dataset, DataLoader\n",
    "from torchvision import datasets\n",
    "from torchvision.transforms import ToTensor\n",
    "import matplotlib.pyplot as plt\n",
    "from torch import nn"
   ]
  },
  {
   "cell_type": "code",
   "execution_count": 2,
   "id": "8ff1071e7601a900",
   "metadata": {
    "ExecuteTime": {
     "end_time": "2025-02-09T07:34:42.464748Z",
     "start_time": "2025-02-09T07:34:42.397138Z"
    }
   },
   "outputs": [],
   "source": [
    "train_dataset = datasets.MNIST(\n",
    "    root=\"data\",\n",
    "    train = True,\n",
    "    download = True,\n",
    "    transform = ToTensor()\n",
    ")\n",
    "test_dataset = datasets.MNIST(\n",
    "    root=\"data\",\n",
    "    train = False,\n",
    "    download = True,\n",
    "    transform = ToTensor()\n",
    ")"
   ]
  },
  {
   "cell_type": "code",
   "execution_count": 3,
   "id": "a32790d64ed9becb",
   "metadata": {
    "ExecuteTime": {
     "end_time": "2025-02-09T07:36:07.007139Z",
     "start_time": "2025-02-09T07:36:06.983063Z"
    }
   },
   "outputs": [
    {
     "name": "stdout",
     "output_type": "stream",
     "text": [
      "Using cuda device\n"
     ]
    }
   ],
   "source": [
    "device = (\n",
    "    \"cuda\"\n",
    "    if torch.cuda.is_available()\n",
    "    else \"mps\"\n",
    "    if torch.backends.mps.is_available()\n",
    "    else \"cpu\"\n",
    ")\n",
    "print(f\"Using {device} device\")"
   ]
  },
  {
   "cell_type": "code",
   "execution_count": 18,
   "id": "a070542f0b79529f",
   "metadata": {
    "ExecuteTime": {
     "end_time": "2025-02-09T07:50:52.121051Z",
     "start_time": "2025-02-09T07:50:52.117918Z"
    }
   },
   "outputs": [],
   "source": [
    "hyper_parameters = {}\n",
    "hyper_parameters['batch_size'] = 64\n",
    "hyper_parameters['epochs'] = 20\n",
    "hyper_parameters['lr'] = 1e-4\n",
    "hyper_parameters['weight_decay'] = 1e-5\n",
    "hyper_parameters['loss_fn'] = nn.CrossEntropyLoss()"
   ]
  },
  {
   "cell_type": "code",
   "execution_count": 15,
   "id": "e5cd88deeed47144",
   "metadata": {
    "ExecuteTime": {
     "end_time": "2025-02-09T07:48:28.802382Z",
     "start_time": "2025-02-09T07:48:28.800015Z"
    }
   },
   "outputs": [],
   "source": [
    "train_loader = DataLoader(train_dataset, batch_size=hyper_parameters['batch_size'], shuffle=True, num_workers=8)\n",
    "test_loader = DataLoader(test_dataset, batch_size=hyper_parameters['batch_size'], shuffle=False, num_workers=8)\n"
   ]
  },
  {
   "cell_type": "code",
   "execution_count": 12,
   "id": "bb4f1c050652539b",
   "metadata": {
    "ExecuteTime": {
     "end_time": "2025-02-09T07:48:10.640674Z",
     "start_time": "2025-02-09T07:48:10.636394Z"
    }
   },
   "outputs": [],
   "source": [
    "def train_loop(dataloader, model, loss_fn, optimizer, show_step = True):\n",
    "    model.train()\n",
    "    ls = 0\n",
    "    for batch, (X, y) in enumerate(dataloader):\n",
    "        X, y = X.to(device), y.to(device)\n",
    "        pred = model(X)\n",
    "        loss = loss_fn(pred, y)\n",
    "\n",
    "        loss.backward()\n",
    "        optimizer.step()\n",
    "        optimizer.zero_grad()\n",
    "        ls = loss.item()\n",
    "        # if batch % 100 == 0 and show_step:\n",
    "        #     loss, current = loss.item(), batch *32+len(X)\n",
    "        #     print(f\"loss: {loss:>7f}  [{current:>5d}/{size:>5d}]\")\n",
    "    return ls\n",
    "\n",
    "def test_loop(dataloader, model, loss_fn, show_step = True):\n",
    "    model.eval()\n",
    "    size = len(dataloader.dataset)\n",
    "    num_batches = len(dataloader)\n",
    "    test_loss, correct = 0, 0\n",
    "\n",
    "    with torch.no_grad():\n",
    "        for X, y in dataloader:\n",
    "            X, y = X.to(device), y.to(device)\n",
    "            pred = model(X)\n",
    "            test_loss += loss_fn(pred, y).item()\n",
    "            correct += (pred.argmax(1) == y).type(torch.float).sum().item()\n",
    "\n",
    "    test_loss /= num_batches\n",
    "    correct /= size\n",
    "    if show_step:\n",
    "        print(f\"Test Error: \\n Accuracy: {(100*correct):>0.1f}%, Avg loss: {test_loss:>8f} \\n\")\n",
    "    return correct\n",
    "def loop_epoch(epoch, train_loader, test_loader, model, loss_fn, optimizer, show_step):\n",
    "    acc_history = []\n",
    "    for t in range(epoch):\n",
    "        if show_step:\n",
    "            print(f\"Epoch {t+1}\\n-------------------------------\")\n",
    "        else:\n",
    "            print(f\"\\r Epoch{t+1} running\", end=\"\")\n",
    "        train_loop(train_loader, model, loss_fn, optimizer, show_step)\n",
    "        acc = test_loop(test_loader, model, loss_fn, show_step)\n",
    "        acc_history.append(acc)\n",
    "    print(\"Done!\")\n",
    "    return acc_history"
   ]
  },
  {
   "cell_type": "code",
   "execution_count": 13,
   "id": "2b12cba0536d435c",
   "metadata": {
    "ExecuteTime": {
     "end_time": "2025-02-09T07:48:13.392163Z",
     "start_time": "2025-02-09T07:48:13.187002Z"
    }
   },
   "outputs": [],
   "source": [
    "class ConvNet(nn.Module):\n",
    "    def __init__(self):\n",
    "        super().__init__()\n",
    "        self.flatten = nn.Flatten()\n",
    "\n",
    "        self.conv1 = nn.Sequential(\n",
    "            nn.Conv2d(in_channels=1, out_channels=8, kernel_size=1, stride=1, padding=1),  #28->(27/n)+1\n",
    "            nn.ReLU(),\n",
    "            nn.MaxPool2d(kernel_size = 2, stride = 2, padding = 0),\n",
    "        )\n",
    "        self.conv2 = nn.Sequential(\n",
    "            nn.Conv2d(in_channels=1, out_channels=16, kernel_size=3, stride=1, padding=2), #(25/n)+1\n",
    "            nn.ReLU(),\n",
    "            nn.MaxPool2d(kernel_size = 2, stride = 2, padding = 0),\n",
    "        )\n",
    "        self.conv3 = nn.Sequential(\n",
    "            nn.Conv2d(in_channels=1, out_channels=4, kernel_size=5, stride=1, padding=3),#(23/n)\n",
    "            nn.ReLU(),\n",
    "            nn.MaxPool2d(kernel_size = 2, stride = 2, padding = 0),\n",
    "        )\n",
    "\n",
    "        self.linear_relu_stack = nn.Sequential(\n",
    "            nn.Linear(in_features=28*15*15, out_features=28*15*15),\n",
    "            nn.ReLU(),\n",
    "            nn.Dropout(0.2),\n",
    "            nn.BatchNorm1d(num_features=28*15*15),\n",
    "            nn.Linear(in_features=28*15*15, out_features=10),\n",
    "            nn.ReLU(),\n",
    "            nn.Linear(in_features=10, out_features=10),\n",
    "        )\n",
    "\n",
    "    def forward(self, x):\n",
    "        x1 = self.conv1(x)\n",
    "        x2 = self.conv2(x)\n",
    "        x3 = self.conv3(x)\n",
    "        x = torch.cat((x1, x2, x3), 1)\n",
    "        x = self.flatten(x)\n",
    "        x = self.linear_relu_stack(x)\n",
    "        return x\n",
    "\n",
    "\n",
    "model = ConvNet().to(device)\n",
    "hyper_parameters['optimizer'] = torch.optim.Adam(model.parameters(), lr=hyper_parameters['lr'])"
   ]
  },
  {
   "cell_type": "code",
   "execution_count": 16,
   "id": "33baa522f7cbc71d",
   "metadata": {
    "ExecuteTime": {
     "end_time": "2025-02-09T07:49:58.219675Z",
     "start_time": "2025-02-09T07:48:31.852870Z"
    }
   },
   "outputs": [
    {
     "name": "stdout",
     "output_type": "stream",
     "text": [
      " Epoch5 runningDone!\n"
     ]
    }
   ],
   "source": [
    "acc_history = loop_epoch(hyper_parameters['epochs'], train_loader, test_loader, model, hyper_parameters['loss_fn'], hyper_parameters['optimizer'], show_step=False)"
   ]
  },
  {
   "cell_type": "code",
   "execution_count": 17,
   "id": "e853a4ff53a65a27",
   "metadata": {
    "ExecuteTime": {
     "end_time": "2025-02-09T07:49:58.241338Z",
     "start_time": "2025-02-09T07:49:58.238924Z"
    }
   },
   "outputs": [
    {
     "name": "stdout",
     "output_type": "stream",
     "text": [
      "Accuracy history: [0.956, 0.9748, 0.9814, 0.9831, 0.9829]\n"
     ]
    }
   ],
   "source": [
    "print(f\"Accuracy history: {acc_history}\")"
   ]
  }
 ],
 "metadata": {
  "kernelspec": {
   "display_name": "Python 3 (ipykernel)",
   "language": "python",
   "name": "python3"
  },
  "language_info": {
   "codemirror_mode": {
    "name": "ipython",
    "version": 3
   },
   "file_extension": ".py",
   "mimetype": "text/x-python",
   "name": "python",
   "nbconvert_exporter": "python",
   "pygments_lexer": "ipython3",
   "version": "3.13.1"
  }
 },
 "nbformat": 4,
 "nbformat_minor": 5
}
